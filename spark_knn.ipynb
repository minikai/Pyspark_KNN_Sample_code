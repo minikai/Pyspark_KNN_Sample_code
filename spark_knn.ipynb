{
 "cells": [
  {
   "cell_type": "code",
   "execution_count": 1,
   "metadata": {
    "collapsed": true
   },
   "outputs": [],
   "source": [
    "import os\n",
    "path_to_spark = \"/usr/hdp/2.3.4.0-3485/spark/\"\n",
    "os.environ['SPARK_HOME'] = path_to_spark\n",
    "import sys\n",
    "path_to_pyspark = os.path.join(path_to_spark, \"python\")\n",
    "sys.path.insert(0, path_to_pyspark)\n",
    "path_to_py4j =\"/usr/hdp/2.3.4.0-3485/spark/python/lib/py4j-0.8.2.1-src.zip\"\n",
    "sys.path.insert(0, path_to_py4j)\n",
    "from pyspark import SparkConf, SparkContext\n",
    "from pyspark.mllib.recommendation import ALS \n",
    "import math\n",
    "from pyspark.sql import SQLContext, Row\n",
    "from pyspark.sql.types import *\n",
    "import pyspark.sql.functions as func\n",
    "from math import sqrt"
   ]
  },
  {
   "cell_type": "code",
   "execution_count": 2,
   "metadata": {
    "collapsed": false
   },
   "outputs": [],
   "source": [
    "sc = SparkContext()"
   ]
  },
  {
   "cell_type": "code",
   "execution_count": 3,
   "metadata": {
    "collapsed": false
   },
   "outputs": [],
   "source": [
    "nba_data = sc.textFile(\"/nba/nba_all.csv\")"
   ]
  },
  {
   "cell_type": "code",
   "execution_count": 4,
   "metadata": {
    "collapsed": false
   },
   "outputs": [],
   "source": [
    "nba_data_header = nba_data.take(1)[0]"
   ]
  },
  {
   "cell_type": "code",
   "execution_count": 5,
   "metadata": {
    "collapsed": false
   },
   "outputs": [],
   "source": [
    "nba_data = nba_data.filter(lambda line: line!=nba_data_header).map(lambda line: line.split(\",\"))"
   ]
  },
  {
   "cell_type": "code",
   "execution_count": 6,
   "metadata": {
    "collapsed": false,
    "scrolled": true
   },
   "outputs": [],
   "source": [
    "nba_data = nba_data.collect()"
   ]
  },
  {
   "cell_type": "code",
   "execution_count": 7,
   "metadata": {
    "collapsed": false
   },
   "outputs": [],
   "source": [
    "def nba_mean(dim) :\n",
    "    Dimension = {'MIN':1,'PTS':2,'AST':3,'TOV':4,'eFG':5,'TS':6}\n",
    "    a = []\n",
    "    for x in nba_data :\n",
    "        a.append(float(x[Dimension[dim]]))\n",
    "    data_mean = sc.parallelize(a).mean()\n",
    "    return data_mean\n",
    "\n",
    "def nba_std(dim) :\n",
    "    Dimension = {'MIN':1,'PTS':2,'AST':3,'TOV':4,'eFG':5,'TS':6}\n",
    "    a = []\n",
    "    for x in nba_data :\n",
    "        a.append(float(x[Dimension[dim]]))\n",
    "    data_std = sc.parallelize(a).stdev()\n",
    "    return data_std\n",
    "  \n",
    "MIN_data_mean = nba_mean('MIN')\n",
    "MIN_data_std = nba_std('MIN')\n",
    "PTS_data_mean = nba_mean('PTS')\n",
    "PTS_data_std = nba_std('PTS')\n",
    "AST_data_mean = nba_mean('AST')\n",
    "AST_data_std = nba_std('AST')\n",
    "TOV_data_mean = nba_mean('TOV')\n",
    "TOV_data_std = nba_std('TOV')\n",
    "eFG_data_mean = nba_mean('eFG')\n",
    "eFG_data_std = nba_std('eFG')\n",
    "TS_data_mean = nba_mean('TS')\n",
    "TS_data_std = nba_std('TS')\n",
    "D1 = []\n",
    "\n",
    "for x in nba_data:\n",
    "    MIN = (((float(x[1])- MIN_data_mean) / MIN_data_std  ) - ((float(nba_data[0][1])- MIN_data_mean) / MIN_data_std  ))**2\n",
    "    PTS = (((float(x[2])- PTS_data_mean) / PTS_data_std  ) - ((float(nba_data[0][2])- PTS_data_mean) / PTS_data_std  ))**2\n",
    "    AST = (((float(x[3])- AST_data_mean) / AST_data_std  ) - ((float(nba_data[0][3])- AST_data_mean) / AST_data_std  ))**2\n",
    "    TOV = (((float(x[4])- TOV_data_mean) / TOV_data_std  ) - ((float(nba_data[0][4])- TOV_data_mean) / TOV_data_std  ))**2\n",
    "    eFG = (((float(x[5])- eFG_data_mean) / eFG_data_std  ) - ((float(nba_data[0][5])- eFG_data_mean) / eFG_data_std  ))**2\n",
    "    TS =  (((float(x[6])- TS_data_mean) / TS_data_std  ) - ((float(nba_data[0][6])- TS_data_mean) / TS_data_std  ))**2\n",
    "    distance = sqrt(MIN + PTS + AST + TOV + eFG + TS)\n",
    "    name = str(x[0])\n",
    "    c = name + ',' + str(distance)\n",
    "    D1.append(c)\n",
    "\n",
    "\n",
    "\n",
    "\n",
    "    \n",
    "    \n",
    "\n",
    "\n",
    "    \n",
    "#for x in nba_data:\n",
    "#    MIN = (float(x[1]) - float(nba_data[0][1]))**2\n",
    "#    PTS = (float(x[2]) - float(nba_data[0][2]))**2\n",
    "#    AST = (float(x[3]) - float(nba_data[0][3]))**2\n",
    "#    TOV = (float(x[4]) - float(nba_data[0][4]))**2\n",
    "#    eFG = (float(x[5]) - float(nba_data[0][5]))**2\n",
    "#    TS =  (float(x[6]) - float(nba_data[0][6]))**2\n",
    "#    distance = sqrt(MIN + PTS + AST + TOV + eFG + TS)\n",
    "#    name = str(x[0])\n",
    "#    print str(x[0]) +  \",\" + str(distance)\n",
    "    "
   ]
  },
  {
   "cell_type": "code",
   "execution_count": 8,
   "metadata": {
    "collapsed": false
   },
   "outputs": [],
   "source": [
    "Rank = sc.parallelize(D1)"
   ]
  },
  {
   "cell_type": "code",
   "execution_count": 9,
   "metadata": {
    "collapsed": true
   },
   "outputs": [],
   "source": [
    "splits = Rank.map(lambda x: x.split(','))"
   ]
  },
  {
   "cell_type": "code",
   "execution_count": 10,
   "metadata": {
    "collapsed": true
   },
   "outputs": [],
   "source": [
    "sqlContext = SQLContext(sc)"
   ]
  },
  {
   "cell_type": "code",
   "execution_count": 11,
   "metadata": {
    "collapsed": true
   },
   "outputs": [],
   "source": [
    "Ranks = splits.map(lambda p: Row(name=p[0], distance=float(p[1])))"
   ]
  },
  {
   "cell_type": "code",
   "execution_count": 12,
   "metadata": {
    "collapsed": false
   },
   "outputs": [],
   "source": [
    "schemaPeople = sqlContext.createDataFrame(Ranks)"
   ]
  },
  {
   "cell_type": "code",
   "execution_count": 13,
   "metadata": {
    "collapsed": false
   },
   "outputs": [
    {
     "name": "stdout",
     "output_type": "stream",
     "text": [
      "+-------------+-------------------+\n",
      "|     distance|               name|\n",
      "+-------------+-------------------+\n",
      "|          0.0|     Michael Jordan|\n",
      "|2.08500025176|       Kevin Durant|\n",
      "|2.03610771872|       LeBron James|\n",
      "|3.46053034079|      Allen Iverson|\n",
      "|2.58912602339|      George Gervin|\n",
      "|2.18681102208|        Karl Malone|\n",
      "|2.33184743121|        Kobe Bryant|\n",
      "|2.56676507767|    Carmelo Anthony|\n",
      "|3.00153365185|  Dominique Wilkins|\n",
      "|2.90037324492|Kareem Abdul-Jabbar|\n",
      "| 2.2199797812|         Larry Bird|\n",
      "|3.17803345479|     Adrian Dantley|\n",
      "|4.29630720065|      Pete Maravich|\n",
      "|3.95295470197|   Shaquille O'Neal|\n",
      "|2.75234343481|        Dwyane Wade|\n",
      "|3.78579454425|         Rick Barry|\n",
      "|3.42260565446|       Bernard King|\n",
      "| 4.1996135256|      Stephen Curry|\n",
      "|3.75655973779|    Charles Barkley|\n",
      "|3.73359450012|     David Thompson|\n",
      "+-------------+-------------------+\n",
      "only showing top 20 rows\n",
      "\n"
     ]
    }
   ],
   "source": [
    "schemaPeople.show()"
   ]
  },
  {
   "cell_type": "code",
   "execution_count": 14,
   "metadata": {
    "collapsed": false
   },
   "outputs": [
    {
     "name": "stdout",
     "output_type": "stream",
     "text": [
      "+-------------+-------------------+\n",
      "|     distance|               name|\n",
      "+-------------+-------------------+\n",
      "|          0.0|     Michael Jordan|\n",
      "|2.03610771872|       LeBron James|\n",
      "|2.08500025176|       Kevin Durant|\n",
      "|2.18681102208|        Karl Malone|\n",
      "| 2.2199797812|         Larry Bird|\n",
      "|2.33184743121|        Kobe Bryant|\n",
      "|2.56676507767|    Carmelo Anthony|\n",
      "|2.58912602339|      George Gervin|\n",
      "|2.75234343481|        Dwyane Wade|\n",
      "|2.90037324492|Kareem Abdul-Jabbar|\n",
      "|3.00153365185|  Dominique Wilkins|\n",
      "|3.17803345479|     Adrian Dantley|\n",
      "| 3.3245867956|      Blake Griffin|\n",
      "|3.33655481641|      Julius Erving|\n",
      "|3.42260565446|       Bernard King|\n",
      "|3.45578126491|    Hakeem Olajuwon|\n",
      "|3.46053034079|      Allen Iverson|\n",
      "|3.53826669164|     Mitch Richmond|\n",
      "|  3.724616571|         Bob McAdoo|\n",
      "|3.73287577593|      Clyde Drexler|\n",
      "+-------------+-------------------+\n",
      "only showing top 20 rows\n",
      "\n"
     ]
    }
   ],
   "source": [
    "schemaPeople.sort(\"distance\",ascending=True).show()"
   ]
  }
 ],
 "metadata": {
  "kernelspec": {
   "display_name": "Python 2",
   "language": "python",
   "name": "python2"
  },
  "language_info": {
   "codemirror_mode": {
    "name": "ipython",
    "version": 2
   },
   "file_extension": ".py",
   "mimetype": "text/x-python",
   "name": "python",
   "nbconvert_exporter": "python",
   "pygments_lexer": "ipython2",
   "version": "2.7.8"
  }
 },
 "nbformat": 4,
 "nbformat_minor": 0
}
